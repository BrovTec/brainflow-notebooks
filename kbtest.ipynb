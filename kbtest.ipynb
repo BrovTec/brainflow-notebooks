{
 "cells": [
  {
   "cell_type": "code",
   "execution_count": 2,
   "metadata": {
    "collapsed": true,
    "pycharm": {
     "name": "#%%\n"
    }
   },
   "outputs": [
    {
     "name": "stdout",
     "output_type": "stream",
     "text": [
      "pygame 1.9.6\n",
      "Hello from the pygame community. https://www.pygame.org/contribute.html\n"
     ]
    }
   ],
   "source": [
    "import os\n",
    "from glob import glob\n",
    "from time import time, sleep\n",
    "from random import choice\n",
    "\n",
    "import numpy as np\n",
    "from pandas import DataFrame\n",
    "from psychopy import visual, core, event\n",
    "from psychopy.hardware import keyboard\n",
    "\n",
    "from brainflow import DataFilter, BoardShim, BoardIds, BrainFlowInputParams\n",
    "\n",
    "from utils import get_fns\n",
    "from psychopy.hardware import keyboard\n"
   ]
  },
  {
   "cell_type": "code",
   "execution_count": 3,
   "outputs": [],
   "source": [
    "STD_PORT = '/dev/ttyUSB0'\n",
    "\n",
    "\n",
    "def get_board_info(board_type='synthetic', connection='usb', usb_port=None):\n",
    "    \"\"\" Gets the BarinFlow ID for the respective OpenBCI board in use\n",
    "\n",
    "    Parameters:\n",
    "        board_type (str): Type of base OpenBCI board (options: synthetic, cyton, daisy)\n",
    "        connection (str): Connection method, either via USB dongle or the Wifi board\n",
    "\n",
    "    Returns:\n",
    "        board_id (int): Id value for the board in the BrainFlow API\n",
    "        \"\"\"\n",
    "    params = BrainFlowInputParams()\n",
    "    if usb_port is None:\n",
    "        usb_port = STD_PORT\n",
    "\n",
    "    if board_type == 'synthetic':\n",
    "        board_id = BoardIds.SYNTHETIC_BOARD.value\n",
    "    elif board_type == 'cyton':\n",
    "        if connection == 'usb':\n",
    "            board_id = BoardIds.CYTON_BOARD.value\n",
    "            params.serial_port = usb_port\n",
    "        elif connection == 'wifi':\n",
    "            board_id = BoardIds.CYTON_WIFI_BOARD.value\n",
    "    elif board_type == 'daisy':\n",
    "        if connection == 'usb':\n",
    "            board_id = BoardIds.CYTON_DAISY_BOARD.value\n",
    "            params.serial_port = usb_port\n",
    "        elif connection == 'wifi':\n",
    "            board_id = BoardIds.CYTON_DAISY_WIFI_BOARD.value\n",
    "\n",
    "    return board_id, params"
   ],
   "metadata": {
    "collapsed": false,
    "pycharm": {
     "name": "#%%\n"
    }
   }
  },
  {
   "cell_type": "code",
   "execution_count": 4,
   "outputs": [],
   "source": [
    "class eventRelatedPotential:\n",
    "\n",
    "    def __init__(self, erp='n170'):\n",
    "        self.erp = erp\n",
    "        self.board_prepared = False\n",
    "        self.board_id = None\n",
    "        self.params = None\n",
    "        self.board = None\n",
    "        self.max_trials = 500\n",
    "        self._setup_trial()\n",
    "\n",
    "    def initialize_eeg(self, board_type='synthetic', connection_method='usb', usb_port=None):\n",
    "        self.board_id, self.params = get_board_info(board_type, connection_method, usb_port)\n",
    "        self.board = BoardShim(self.board_id, self.params)\n",
    "        self.board.prepare_session()\n",
    "        self.board_prepared = True\n",
    "\n",
    "    def _setup_trial(self):\n",
    "        if self.erp == 'n170':\n",
    "            self.image_type = np.random.binomial(1, 0.5, self.max_trials)\n",
    "        if self.erp == 'p300':\n",
    "            self.image_type = np.random.binomial(1, 0.5, self.max_trials)\n",
    "\n",
    "        self.trials = DataFrame(dict(image_type=self.image_type,\n",
    "                                     timestamp=np.zeros(self.max_trials)))\n",
    "\n",
    "    def _setup_task(self):\n",
    "        if self.erp == 'n170':\n",
    "            self.markernames = ['houses', 'faces']\n",
    "            self.markers = [1, 2]\n",
    "        if self.erp == 'p300':\n",
    "            self.markernames = ['nontargets', 'targets']\n",
    "            self.markers = [1, 2]\n",
    "\n",
    "    def _setup_graphics(self):\n",
    "        self.mywin = visual.Window([1600, 900], monitor='testMonitor', units=\"deg\")\n",
    "\n",
    "    def run_trial(self, duration, subject, run):\n",
    "        if self.board_prepared == False:\n",
    "            self.board.prepare_session()\n",
    "            self.board_prepared = True\n",
    "\n",
    "        record_duration = np.float32(duration)\n",
    "        print(\"Beginning EEG Stream; Wait 5 seconds for signal to settle... \\n\")\n",
    "        self.board.start_stream()\n",
    "        sleep(5)\n",
    "\n",
    "        # Get starting time-stamp by pulling the last sample from the board and using its time stamp\n",
    "        last_sample = self.board.get_current_board_data(1)\n",
    "        start = last_sample[-1][0]\n",
    "\n",
    "        # setup graphics\n",
    "        self._setup_graphics()\n",
    "\n",
    "        while (time() - start) < record_duration:\n",
    "            if len(event.getKeys()) > 1:\n",
    "                print(event.getKeys())\n",
    "\n",
    "        event.clearEvents()\n",
    "\n",
    "        # cleanup the session\n",
    "        self.board.stop_stream()\n",
    "        #self.board_prepared = False\n",
    "        data = self.board.get_board_data()\n",
    "        data_fn, event_fn = get_fns(subject, run, self.erp)\n",
    "        DataFilter.write_file(data, data_fn, 'w')\n",
    "        self.mywin.close()\n",
    "        self.trials.to_csv(event_fn)"
   ],
   "metadata": {
    "collapsed": false,
    "pycharm": {
     "name": "#%%\n"
    }
   }
  },
  {
   "cell_type": "code",
   "execution_count": 5,
   "outputs": [
    {
     "name": "stdout",
     "output_type": "stream",
     "text": [
      "Beginning EEG Stream; Wait 5 seconds for signal to settle... \n",
      "\n"
     ]
    }
   ],
   "source": [
    "n170_exp = eventRelatedPotential(erp='n170')\n",
    "n170_exp.initialize_eeg(board_type='synthetic')\n",
    "\n",
    "subject_name = 'kb_test'\n",
    "duration = 10\n",
    "trial_num = 3\n",
    "n170_exp.run_trial(duration=duration,\n",
    "                   subject=subject_name,\n",
    "                   run=trial_num)"
   ],
   "metadata": {
    "collapsed": false,
    "pycharm": {
     "name": "#%%\n"
    }
   }
  }
 ],
 "metadata": {
  "kernelspec": {
   "display_name": "Python 3",
   "language": "python",
   "name": "python3"
  },
  "language_info": {
   "codemirror_mode": {
    "name": "ipython",
    "version": 2
   },
   "file_extension": ".py",
   "mimetype": "text/x-python",
   "name": "python",
   "nbconvert_exporter": "python",
   "pygments_lexer": "ipython2",
   "version": "2.7.6"
  }
 },
 "nbformat": 4,
 "nbformat_minor": 0
}