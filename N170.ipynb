{
 "cells": [
  {
   "cell_type": "code",
   "execution_count": 1,
   "metadata": {
    "collapsed": true
   },
   "outputs": [
    {
     "name": "stdout",
     "output_type": "stream",
     "text": [
      "pygame 1.9.6\n",
      "Hello from the pygame community. https://www.pygame.org/contribute.html\n"
     ]
    }
   ],
   "source": [
    "from collections import OrderedDict\n",
    "\n",
    "import numpy as np\n",
    "import pandas as pd\n",
    "import matplotlib.pyplot as plt\n",
    "import seaborn as sns\n",
    "\n",
    "from mne import Epochs, find_events\n",
    "from mne.decoding import Vectorizer\n",
    "\n",
    "from sklearn.pipeline import make_pipeline\n",
    "from sklearn.linear_model import LogisticRegression\n",
    "from sklearn.preprocessing import StandardScaler\n",
    "from sklearn.discriminant_analysis import LinearDiscriminantAnalysis as LDA\n",
    "from sklearn.model_selection import cross_val_score, StratifiedShuffleSplit\n",
    "\n",
    "from pyriemann.estimation import ERPCovariances\n",
    "from pyriemann.tangentspace import TangentSpace\n",
    "from pyriemann.classification import MDM\n",
    "from pyriemann.spatialfilters import Xdawn\n",
    "\n",
    "from experiments import eventRelatedPotential\n",
    "from dataset import brainflowDataset\n",
    "from utils import plot_conditions"
   ]
  },
  {
   "cell_type": "markdown",
   "source": [
    "# N170\n",
    "\n",
    "<img style=\"height: 300px; float: right\" src=\"https://www.researchgate.net/profile/Vincent_Walsh3/publication/49833438/figure/fig1/AS:394279194251295@1471014893499/The-P1-and-N170-ERP-components-The-graph-shows-the-grand-average-ERP-responses-from-ten.png\"/>\n",
    "\n",
    "The N170 is a large negative event-related potential (ERP) component that occurs after the detection of faces, but not \n",
    "objects, scrambled faces, or other body parts such as hands. The N170 occurs around 170ms after face perception and is \n",
    "most easily detected at lateral posterior electrodes such as T5 and T6 [1](http://citeseerx.ist.psu.edu/viewdoc/download?doi=10.1.1.601.6917&rep=rep1&type=pdf). \n",
    "Frontal or profile views of human (and animal [2](https://www.ncbi.nlm.nih.gov/pubmed/14995895)) faces elicit the strongest \n",
    "N170 and the strength of the N170 does not seem to be influenced by how familiar a face is. Thus, although there is no \n",
    "consensus on the specific source of the N170, researchers believe it is related to activity in the fusiform face area, \n",
    "an area of the brain that shows a similar response pattern and is involved in encoding the holistic representation of a face \n",
    "(i.e eyes, nose mouth all arranged in the appropriate way).\n",
    "\n",
    "In this notebook, we will attempt to detect the N170 with the OpenBCI Headset using faces and houses as our stimuli. \n",
    "The OpenBCI's temporal electrodes are well positioned to detect the N170 and we expect we'll be able to \n",
    "see an N170 emerge from just a few dozen trials. We will then run several different classification algorithms on our \n",
    "data in order to evaluate the performance of a potential brain-computer interface using the N170."
   ],
   "metadata": {
    "collapsed": false
   }
  },
  {
   "cell_type": "markdown",
   "source": [
    "## Set up the experiment"
   ],
   "metadata": {
    "collapsed": false
   }
  },
  {
   "cell_type": "code",
   "execution_count": 2,
   "outputs": [],
   "source": [
    "n170_exp = eventRelatedPotential(erp='n170')"
   ],
   "metadata": {
    "collapsed": false,
    "pycharm": {
     "name": "#%%\n"
    }
   }
  },
  {
   "cell_type": "markdown",
   "source": [
    "## Initialize the EEG signal"
   ],
   "metadata": {
    "collapsed": false,
    "pycharm": {
     "name": "#%% md\n"
    }
   }
  },
  {
   "cell_type": "code",
   "execution_count": 3,
   "outputs": [
    {
     "name": "stdout",
     "output_type": "stream",
     "text": [
      "cyton_daisy\n",
      "/dev/ttyUSB0\n"
     ]
    }
   ],
   "source": [
    "# For testing without connection\n",
    "#n170_exp.initialize_eeg(board_type='synthetic')\n",
    "\n",
    "# For using the 4-channel Ganglion board\n",
    "#   Over USB:\n",
    "#n170_exp.initialize_eeg(board_type='ganglion')\n",
    "#   Over Wifi:\n",
    "#n170_exp.initialize_eeg(board_type='ganglion_wifi)\n",
    "\n",
    "\n",
    "# For using the 8-channel Cyton board\n",
    "#   Over USB:\n",
    "#n170_exp.initialize_eeg(board_type='cyton')\n",
    "#   Over Wifi:\n",
    "#n170_exp.initialize_eeg(board_type='cyton_wifi')\n",
    "\n",
    "\n",
    "# For using the 16-channel Cyton+Daisy combo\n",
    "#   Over USB:\n",
    "n170_exp.initialize_eeg(board_type='cyton_daisy')\n",
    "#   Over Wifi:\n",
    "#n170_exp.initialize_eeg(board_type='cyton_daisy_wifi')\n",
    "\n",
    "# For using the BrainBit headband:\n",
    "#n170_exp.initialize_eeg(board_type='brainbit')\n",
    "\n",
    "# For using the Unicorn device\n",
    "#n170_exp.initialize_eeg(board_type='unicorn')"
   ],
   "metadata": {
    "collapsed": false,
    "pycharm": {
     "name": "#%%\n"
    }
   }
  },
  {
   "cell_type": "markdown",
   "source": [
    "## Run Experiment"
   ],
   "metadata": {
    "collapsed": false,
    "pycharm": {
     "name": "#%% md\n"
    }
   }
  },
  {
   "cell_type": "code",
   "execution_count": 4,
   "outputs": [
    {
     "name": "stdout",
     "output_type": "stream",
     "text": [
      "Beginning EEG Stream; Wait 5 seconds for signal to settle... \n",
      "\n"
     ]
    }
   ],
   "source": [
    "subject_name = 'jadin_test'\n",
    "duration = 10\n",
    "trial_num = 3\n",
    "n170_exp.run_trial(duration=duration,\n",
    "                   subject=subject_name,\n",
    "                   run=trial_num)"
   ],
   "metadata": {
    "collapsed": false,
    "pycharm": {
     "name": "#%%\n"
    }
   }
  },
  {
   "cell_type": "markdown",
   "source": [
    "## Load the Dataset"
   ],
   "metadata": {
    "collapsed": false,
    "pycharm": {
     "name": "#%% md\n"
    }
   }
  },
  {
   "cell_type": "code",
   "execution_count": 2,
   "outputs": [
    {
     "name": "stdout",
     "output_type": "stream",
     "text": [
      "data/jadin_test_n170_3.csv\n",
      "Notch filter\n",
      "Bandpass filter\n",
      "Denoise\n",
      "Creating RawArray with float64 data, n_channels=16, n_times=504\n",
      "    Range : 0 ... 503 =      0.000 ...     4.024 secs\n",
      "Ready.\n",
      "Creating RawArray with float64 data, n_channels=1, n_times=504\n",
      "    Range : 0 ... 503 =      0.000 ...     4.024 secs\n",
      "Ready.\n"
     ]
    }
   ],
   "source": [
    "subject_name = 'jadin_test'\n",
    "runs = [3]\n",
    "dataset_n170 = brainflowDataset(paradigm='n170', \n",
    "                                subject=subject_name,\n",
    "                                board_type='cyton_daisy')\n",
    "raw = dataset_n170.load_subject_to_raw(subject_name, runs)"
   ],
   "metadata": {
    "collapsed": false,
    "pycharm": {
     "name": "#%%\n"
    }
   }
  },
  {
   "cell_type": "markdown",
   "source": [
    "## Filter the data\n",
    "The justification for filtering 1-16 Hz is taken from... [**Find reference from Riemannian Geometric Classifier paper**]"
   ],
   "metadata": {
    "collapsed": false,
    "pycharm": {
     "name": "#%% md\n"
    }
   }
  },
  {
   "cell_type": "code",
   "execution_count": 7,
   "outputs": [
    {
     "name": "stdout",
     "output_type": "stream",
     "text": [
      "Filtering raw data in 6 contiguous segments\n",
      "Setting up band-pass filter from 1 - 16 Hz\n",
      "\n",
      "IIR filter parameters\n",
      "---------------------\n",
      "Butterworth bandpass zero-phase (two-pass forward and reverse) non-causal filter:\n",
      "- Filter order 16 (effective, after forward-backward)\n",
      "- Cutoffs at 1.00, 16.00 Hz: -6.02, -6.02 dB\n",
      "\n"
     ]
    },
    {
     "data": {
      "text/plain": "<RawArray | 17 x 45199 (361.6 s), ~5.9 MB, data loaded>"
     },
     "execution_count": 7,
     "metadata": {},
     "output_type": "execute_result"
    }
   ],
   "source": [
    "raw.filter(1, 16, method='iir')"
   ],
   "metadata": {
    "collapsed": false,
    "pycharm": {
     "name": "#%%\n"
    }
   }
  },
  {
   "cell_type": "markdown",
   "source": [
    "## Epoch the data"
   ],
   "metadata": {
    "collapsed": false
   }
  },
  {
   "cell_type": "code",
   "execution_count": 8,
   "outputs": [
    {
     "name": "stdout",
     "output_type": "stream",
     "text": [
      "360 events found\n",
      "Event IDs: [1 2]\n",
      "sample drop %:  6.944444444444442\n"
     ]
    }
   ],
   "source": [
    "events = find_events(raw)\n",
    "event_id = {'Non-Target': 1, 'Target': 2}\n",
    "epochs = Epochs(raw, events=events, event_id=event_id, \n",
    "                tmin=-0.1, tmax=0.8, baseline=None,\n",
    "                reject={'eeg': 100e-6}, preload=True, \n",
    "                verbose=False)\n",
    "print('sample drop %: ', (1 - len(epochs.events)/len(events)) * 100)"
   ],
   "metadata": {
    "collapsed": false,
    "pycharm": {
     "name": "#%%\n"
    }
   }
  },
  {
   "cell_type": "markdown",
   "source": [
    "## Analyze data\n",
    "\n",
    "#### Epoch Averages"
   ],
   "metadata": {
    "collapsed": false
   }
  },
  {
   "cell_type": "code",
   "execution_count": 9,
   "outputs": [
    {
     "ename": "AttributeError",
     "evalue": "module 'seaborn' has no attribute 'tsplot'",
     "output_type": "error",
     "traceback": [
      "\u001B[0;31m---------------------------------------------------------------------------\u001B[0m",
      "\u001B[0;31mAttributeError\u001B[0m                            Traceback (most recent call last)",
      "\u001B[0;32m<ipython-input-9-5b86c3fde511>\u001B[0m in \u001B[0;36m<module>\u001B[0;34m\u001B[0m\n\u001B[1;32m      6\u001B[0m fig, ax = plot_conditions(epochs, conditions=conditions, \n\u001B[1;32m      7\u001B[0m                                 \u001B[0mci\u001B[0m\u001B[0;34m=\u001B[0m\u001B[0;36m97.5\u001B[0m\u001B[0;34m,\u001B[0m \u001B[0mn_boot\u001B[0m\u001B[0;34m=\u001B[0m\u001B[0;36m1000\u001B[0m\u001B[0;34m,\u001B[0m \u001B[0mtitle\u001B[0m\u001B[0;34m=\u001B[0m\u001B[0;34m''\u001B[0m\u001B[0;34m,\u001B[0m\u001B[0;34m\u001B[0m\u001B[0;34m\u001B[0m\u001B[0m\n\u001B[0;32m----> 8\u001B[0;31m                                 diff_waveform=(1, 2))\n\u001B[0m\u001B[1;32m      9\u001B[0m \u001B[0;34m\u001B[0m\u001B[0m\n",
      "\u001B[0;32m~/Documents/Programming/brainflow-notebooks/utils.py\u001B[0m in \u001B[0;36mplot_conditions\u001B[0;34m(epochs, conditions, ci, n_boot, title, palette, ylim, diff_waveform)\u001B[0m\n\u001B[1;32m     57\u001B[0m     \u001B[0;32mfor\u001B[0m \u001B[0mch\u001B[0m \u001B[0;32min\u001B[0m \u001B[0mrange\u001B[0m\u001B[0;34m(\u001B[0m\u001B[0;36m4\u001B[0m\u001B[0;34m)\u001B[0m\u001B[0;34m:\u001B[0m\u001B[0;34m\u001B[0m\u001B[0;34m\u001B[0m\u001B[0m\n\u001B[1;32m     58\u001B[0m         \u001B[0;32mfor\u001B[0m \u001B[0mcond\u001B[0m\u001B[0;34m,\u001B[0m \u001B[0mcolor\u001B[0m \u001B[0;32min\u001B[0m \u001B[0mzip\u001B[0m\u001B[0;34m(\u001B[0m\u001B[0mconditions\u001B[0m\u001B[0;34m.\u001B[0m\u001B[0mvalues\u001B[0m\u001B[0;34m(\u001B[0m\u001B[0;34m)\u001B[0m\u001B[0;34m,\u001B[0m \u001B[0mpalette\u001B[0m\u001B[0;34m)\u001B[0m\u001B[0;34m:\u001B[0m\u001B[0;34m\u001B[0m\u001B[0;34m\u001B[0m\u001B[0m\n\u001B[0;32m---> 59\u001B[0;31m             sns.tsplot(X[y.isin(cond), ch], time=times, color=color,\n\u001B[0m\u001B[1;32m     60\u001B[0m                        n_boot=n_boot, ci=ci, ax=axes[ch])\n\u001B[1;32m     61\u001B[0m \u001B[0;34m\u001B[0m\u001B[0m\n",
      "\u001B[0;31mAttributeError\u001B[0m: module 'seaborn' has no attribute 'tsplot'"
     ]
    },
    {
     "data": {
      "text/plain": "<Figure size 864x432 with 4 Axes>",
      "image/png": "[encoded data removed]"
     },
     "metadata": {
      "needs_background": "light"
     },
     "output_type": "display_data"
    }
   ],
   "source": [
    "%matplotlib inline\n",
    "conditions = OrderedDict()\n",
    "conditions['Non-target'] = [1]\n",
    "conditions['Target'] = [2]\n",
    "\n",
    "fig, ax = plot_conditions(epochs, conditions=conditions, \n",
    "                                ci=97.5, n_boot=1000, title='',\n",
    "                                diff_waveform=(1, 2))"
   ],
   "metadata": {
    "collapsed": false,
    "pycharm": {
     "name": "#%%\n"
    }
   }
  },
  {
   "cell_type": "markdown",
   "source": [
    "### Classify"
   ],
   "metadata": {
    "collapsed": false
   }
  },
  {
   "cell_type": "code",
   "execution_count": 10,
   "outputs": [
    {
     "data": {
      "text/plain": "<Figure size 576x288 with 1 Axes>",
      "image/png": "[encoded data removed]"
     },
     "metadata": {
      "needs_background": "light"
     },
     "output_type": "display_data"
    }
   ],
   "source": [
    "clfs = OrderedDict()\n",
    "\n",
    "clfs['Vect + LR'] = make_pipeline(Vectorizer(), StandardScaler(), LogisticRegression())\n",
    "clfs['Vect + RegLDA'] = make_pipeline(Vectorizer(), LDA(shrinkage='auto', solver='eigen'))\n",
    "clfs['Xdawn + RegLDA'] = make_pipeline(Xdawn(2, classes=[1]), Vectorizer(), LDA(shrinkage='auto', solver='eigen'))\n",
    "clfs['ERPCov + TS'] = make_pipeline(ERPCovariances(), TangentSpace(), LogisticRegression())\n",
    "clfs['ERPCov + MDM'] = make_pipeline(ERPCovariances(), MDM())\n",
    "\n",
    "# format data\n",
    "epochs.pick_types(eeg=True)\n",
    "X = epochs.get_data() * 1e6\n",
    "times = epochs.times\n",
    "y = epochs.events[:, -1]\n",
    "\n",
    "# define cross validation \n",
    "cv = StratifiedShuffleSplit(n_splits=10, test_size=0.25, random_state=42)\n",
    "\n",
    "# run cross validation for each pipeline\n",
    "auc = []\n",
    "methods = []\n",
    "for m in clfs:\n",
    "    res = cross_val_score(clfs[m], X, y==2, scoring='roc_auc', cv=cv, n_jobs=-1)\n",
    "    auc.extend(res)\n",
    "    methods.extend([m]*len(res))\n",
    "    \n",
    "results = pd.DataFrame(data=auc, columns=['AUC'])\n",
    "results['Method'] = methods\n",
    "\n",
    "plt.figure(figsize=[8,4])\n",
    "sns.barplot(data=results, x='AUC', y='Method')\n",
    "plt.xlim(0.2, 0.85)\n",
    "sns.despine()"
   ],
   "metadata": {
    "collapsed": false,
    "pycharm": {
     "name": "#%%\n"
    }
   }
  },
  {
   "cell_type": "code",
   "execution_count": null,
   "outputs": [],
   "source": [],
   "metadata": {
    "collapsed": false,
    "pycharm": {
     "name": "#%%\n",
     "is_executing": false
    }
   }
  }
 ],
 "metadata": {
  "kernelspec": {
   "display_name": "Python 3",
   "language": "python",
   "name": "python3"
  },
  "language_info": {
   "codemirror_mode": {
    "name": "ipython",
    "version": 2
   },
   "file_extension": ".py",
   "mimetype": "text/x-python",
   "name": "python",
   "nbconvert_exporter": "python",
   "pygments_lexer": "ipython2",
   "version": "2.7.6"
  }
 },
 "nbformat": 4,
 "nbformat_minor": 0
}